{
  "nbformat": 4,
  "nbformat_minor": 0,
  "metadata": {
    "colab": {
      "provenance": [],
      "authorship_tag": "ABX9TyOeSWZk94UglUX6eF3jJUBx",
      "include_colab_link": true
    },
    "kernelspec": {
      "name": "python3",
      "display_name": "Python 3"
    },
    "language_info": {
      "name": "python"
    }
  },
  "cells": [
    {
      "cell_type": "markdown",
      "metadata": {
        "id": "view-in-github",
        "colab_type": "text"
      },
      "source": [
        "<a href=\"https://colab.research.google.com/github/AKSHIT3107/assignment1/blob/main/assignment6.ipynb\" target=\"_parent\"><img src=\"https://colab.research.google.com/assets/colab-badge.svg\" alt=\"Open In Colab\"/></a>"
      ]
    },
    {
      "cell_type": "code",
      "execution_count": 1,
      "metadata": {
        "colab": {
          "base_uri": "https://localhost:8080/"
        },
        "id": "8kVSucIZA7Pg",
        "outputId": "72ea180a-7b8d-4e42-92fe-3f8170e6a2aa"
      },
      "outputs": [
        {
          "output_type": "stream",
          "name": "stdout",
          "text": [
            "Step-by-step Gaussian Naïve Bayes Accuracy: 100.00%\n",
            "In-built Gaussian Naïve Bayes Accuracy: 100.00%\n"
          ]
        }
      ],
      "source": [
        "import pandas as pd\n",
        "from sklearn.model_selection import train_test_split\n",
        "from sklearn.preprocessing import LabelEncoder\n",
        "from sklearn.naive_bayes import GaussianNB\n",
        "from sklearn.metrics import accuracy_score\n",
        "import numpy as np\n",
        "\n",
        "file_path = '/content/iris.data.csv'\n",
        "iris_data = pd.read_csv(file_path, header=None)\n",
        "\n",
        "X = iris_data.iloc[:, :-1].values\n",
        "y = iris_data.iloc[:, -1].values\n",
        "\n",
        "label_encoder = LabelEncoder()\n",
        "y_encoded = label_encoder.fit_transform(y)\n",
        "\n",
        "X_train, X_test, y_train, y_test = train_test_split(X, y_encoded, test_size=0.2, random_state=42)\n",
        "\n",
        "class GaussianNBManual:\n",
        "    def fit(self, X, y):\n",
        "        self.classes = np.unique(y)\n",
        "        self.means = {}\n",
        "        self.variances = {}\n",
        "        self.priors = {}\n",
        "\n",
        "        for c in self.classes:\n",
        "            X_c = X[y == c]\n",
        "            self.means[c] = np.mean(X_c, axis=0)\n",
        "            self.variances[c] = np.var(X_c, axis=0)\n",
        "            self.priors[c] = X_c.shape[0] / X.shape[0]\n",
        "\n",
        "    def predict(self, X):\n",
        "        predictions = [self._predict_instance(x) for x in X]\n",
        "        return np.array(predictions)\n",
        "\n",
        "    def _predict_instance(self, x):\n",
        "        posteriors = []\n",
        "        for c in self.classes:\n",
        "            prior = np.log(self.priors[c])\n",
        "            class_likelihood = np.sum(np.log(self._gaussian_likelihood(x, c)))\n",
        "            posterior = prior + class_likelihood\n",
        "            posteriors.append(posterior)\n",
        "        return self.classes[np.argmax(posteriors)]\n",
        "\n",
        "    def _gaussian_likelihood(self, x, c):\n",
        "        mean = self.means[c]\n",
        "        variance = self.variances[c]\n",
        "        return (1 / np.sqrt(2 * np.pi * variance)) * np.exp(-(x - mean)**2 / (2 * variance))\n",
        "\n",
        "gnb_manual = GaussianNBManual()\n",
        "gnb_manual.fit(X_train, y_train)\n",
        "y_pred_manual = gnb_manual.predict(X_test)\n",
        "\n",
        "manual_accuracy = np.mean(y_pred_manual == y_test)\n",
        "\n",
        "print(f\"Step-by-step Gaussian Naïve Bayes Accuracy: {manual_accuracy * 100:.2f}%\")\n",
        "\n",
        "gnb_builtin = GaussianNB()\n",
        "gnb_builtin.fit(X_train, y_train)\n",
        "y_pred_builtin = gnb_builtin.predict(X_test)\n",
        "\n",
        "builtin_accuracy = accuracy_score(y_test, y_pred_builtin)\n",
        "\n",
        "print(f\"In-built Gaussian Naïve Bayes Accuracy: {builtin_accuracy * 100:.2f}%\")\n"
      ]
    },
    {
      "cell_type": "code",
      "source": [
        "import pandas as pd\n",
        "from sklearn.model_selection import train_test_split, GridSearchCV\n",
        "from sklearn.neighbors import KNeighborsClassifier\n",
        "from sklearn.metrics import accuracy_score\n",
        "\n",
        "file_path = '/content/iris.data.csv'\n",
        "data = pd.read_csv(file_path, header=None)\n",
        "\n",
        "X = data.iloc[:, :-1]\n",
        "y = data.iloc[:, -1]\n",
        "\n",
        "X_train, X_test, y_train, y_test = train_test_split(X, y, test_size=0.2, random_state=42, stratify=y)\n",
        "\n",
        "param_grid = {'n_neighbors': range(1, 21)}\n",
        "\n",
        "knn = KNeighborsClassifier()\n",
        "\n",
        "grid_search = GridSearchCV(estimator=knn, param_grid=param_grid, cv=5, scoring='accuracy', n_jobs=-1)\n",
        "\n",
        "grid_search.fit(X_train, y_train)\n",
        "\n",
        "best_k = grid_search.best_params_['n_neighbors']\n",
        "best_score = grid_search.best_score_\n",
        "\n",
        "best_knn = grid_search.best_estimator_\n",
        "test_accuracy = accuracy_score(y_test, best_knn.predict(X_test))\n",
        "\n",
        "print(\"Best k:\", best_k)\n",
        "print(\"Best cross-validation accuracy:\", best_score)\n",
        "print(\"Test set accuracy:\", test_accuracy)\n"
      ],
      "metadata": {
        "colab": {
          "base_uri": "https://localhost:8080/"
        },
        "id": "eqfqkSDwB4xt",
        "outputId": "68039635-4fad-424f-e4dc-725c532b07b6"
      },
      "execution_count": 2,
      "outputs": [
        {
          "output_type": "stream",
          "name": "stdout",
          "text": [
            "Best k: 6\n",
            "Best cross-validation accuracy: 0.9833333333333334\n",
            "Test set accuracy: 0.9666666666666667\n"
          ]
        }
      ]
    }
  ]
}